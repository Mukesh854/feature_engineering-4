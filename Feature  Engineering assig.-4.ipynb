{
 "cells": [
  {
   "cell_type": "markdown",
   "id": "cdb2a859-63fe-4640-96e4-ab15f7c23479",
   "metadata": {},
   "source": [
    "# Feature Engineering Assignment-4"
   ]
  },
  {
   "cell_type": "markdown",
   "id": "d49158d5-4d52-44b9-9d7d-2c1a2c03e39c",
   "metadata": {},
   "source": [
    "Q1. What is the difference between Ordinal Encoding and Label Encoding? Provide an example of when you\n",
    "might choose one over the other."
   ]
  },
  {
   "cell_type": "markdown",
   "id": "f379c4f5-d29f-4c68-ae5d-2f586bf2959f",
   "metadata": {},
   "source": [
    "Ordinal Encoding:\n",
    "\n",
    "Ordinal encoding assigns a unique integer value to each category in the dataset.\n",
    "The integers assigned are ordered in a meaningful way, implying some sort of hierarchy or order among the categories.\n",
    "This encoding is typically used when there is a clear ordinal relationship among the categories. For example, categories like \"low,\" \"medium,\" and \"high\" can be encoded as 0, 1, and 2 respectively.\n",
    "\n",
    "Label Encoding:\n",
    "\n",
    "Label encoding also assigns a unique integer value to each category in the dataset.\n",
    "However, unlike ordinal encoding, label encoding does not imply any ordinal relationship among the categories. It simply assigns a unique integer to each category without considering any order.\n",
    "This encoding is generally used when the categories are nominal and there is no inherent order among them.\n",
    "\n",
    "For Example  let's  suppose we have a dataset in which we have a feature named size in this feature we have a size  of t-shirt small , medium , large\n",
    "\n",
    "so if we apply ordinal encoding on this feature it will look like  this:\n",
    "\n",
    "\"Small\" might be encoded as 0\n",
    "\n",
    "\"Medium\" might be encoded as 1\n",
    "\n",
    "\"Large\" might be encoded as 2\n",
    "\n",
    "and goes like this for label encoding:\n",
    "\n",
    "\"Small\" might be encoded as 0\n",
    "\"Medium\" might be encoded as 1\n",
    "\"Large\" might be encoded as 2\n",
    "\n",
    "In both cases, the categories are encoded into numerical values, but the interpretation differs based on whether there is an ordinal relationship among the categories.\n",
    "\n",
    "\n",
    "\n",
    "\n"
   ]
  },
  {
   "cell_type": "markdown",
   "id": "0b0d0b32-57c8-4b07-9d2c-13499c53023b",
   "metadata": {},
   "source": [
    "Q2. Explain how Target Guided Ordinal Encoding works and provide an example of when you might use it in\n",
    "a machine learning project."
   ]
  },
  {
   "cell_type": "markdown",
   "id": "26eb09bb-4ee6-419b-af96-129cb2d520d5",
   "metadata": {},
   "source": [
    "Calculate the mean of the target variable for each category: \n",
    "\n",
    "For each category of the categorical variable, calculate the mean of the target variable (e.g., the mean of the target variable for each category of a product type).\n",
    "\n",
    "Order the categories:\n",
    "\n",
    "Sort the categories based on the calculated means of the target variable. Categories with higher mean target values are assigned higher ranks, indicating they are more desirable or have a stronger relationship with the target variable.\n",
    "\n",
    "Assign ordinal ranks:\n",
    "\n",
    "Assign ordinal ranks to the categories based on their order. The category with the highest mean target value might be assigned a rank of 0, the next highest mean might be assigned a rank of 1, and so on.\n",
    "\n",
    "Encode the categorical variable:\n",
    "\n",
    "Replace the original categories with their corresponding ordinal ranks.\n",
    "\n",
    "Suppose you're working on a marketing campaign to target potential customers for a product. You have a dataset with a categorical variable \"Education Level\" (categories: High School, College, and Graduate) and a binary target variable indicating whether or not a customer purchased the product.\n",
    "\n",
    "Calculate the mean of the target variable for each category:\n",
    "\n",
    "Mean purchase rate for High School: 0.2\n",
    "\n",
    "Mean purchase rate for College: 0.4\n",
    "\n",
    "Mean purchase rate for Graduate: 0.7\n",
    "\n",
    "Order the categories:\n",
    "\n",
    "Graduate (mean purchase rate: 0.7)\n",
    "\n",
    "College (mean purchase rate: 0.4)\n",
    "\n",
    "High School (mean purchase rate: 0.2)\n",
    "\n",
    "Assign ordinal ranks:\n",
    "\n",
    "Graduate: 0\n",
    "\n",
    "College: 1\n",
    "\n",
    "High School: 2\n",
    "\n",
    "Encode the categorical variable:\n",
    "\n",
    "Replace \"Education Level\" with the corresponding ordinal ranks."
   ]
  },
  {
   "cell_type": "markdown",
   "id": "ff637c01-0a1f-4d1c-bfd4-8ccc09f47f0a",
   "metadata": {},
   "source": [
    "Q3. Define covariance and explain why it is important in statistical analysis. How is covariance calculated?\n"
   ]
  },
  {
   "cell_type": "markdown",
   "id": "fcd02f0c-33f6-4f1b-87d3-54d31f94073a",
   "metadata": {},
   "source": [
    "Covariance of (x,x) is nothing but variance of X.Covariance is a statistical measure that quantifies the degree to which two variables change together. It measures the direction and strength of the linear relationship between two variables.\n",
    "\n",
    "Covariance is important in statistical analysis for several reasons:-\n",
    "\n",
    "Relationship between variables:\n",
    "\n",
    "Covariance helps in understanding the relationship between two variables. A high covariance value suggests a strong relationship, while a low or zero covariance value indicates a weak or no relationship.\n",
    "\n",
    "Direction of relationship:\n",
    "\n",
    "Covariance can indicate whether the relationship between variables is positive (both variables tend to increase or decrease together) or negative (one variable increases while the other decreases).\n",
    "\n",
    "This is formula to  calculate covariance\n",
    "\n",
    "cov(X,Y)= \n",
    "n−1\n",
    "∑ \n",
    "i=1\n",
    "n\n",
    "​\n",
    " (X \n",
    "i\n",
    "​\n",
    " − \n",
    "X\n",
    "ˉ\n",
    " )×(Y \n",
    "i\n",
    "​\n",
    " − \n",
    "Y\n",
    "ˉ\n",
    " )\n",
    "​\n"
   ]
  },
  {
   "cell_type": "markdown",
   "id": "281420e6-3378-400f-aa9c-58ca7aa5faf7",
   "metadata": {},
   "source": [
    "Q4. For a dataset with the following categorical variables: Color (red, green, blue), Size (small, medium,\n",
    "large), and Material (wood, metal, plastic), perform label encoding using Python's scikit-learn library.\n",
    "Show your code and explain the output."
   ]
  },
  {
   "cell_type": "code",
   "execution_count": 4,
   "id": "364c7401-993b-46d7-860d-45aa3a8d2cdc",
   "metadata": {},
   "outputs": [
    {
     "name": "stdout",
     "output_type": "stream",
     "text": [
      "   Color         Size Material  encoded_Color  encoder_size  encoded_material\n",
      "0    red        small     wood              3             3                 3\n",
      "1  green       medium    metal              2             2                 0\n",
      "2   blue        large  plastic              1             1                 1\n",
      "3  black  extra large    steel              0             0                 2\n"
     ]
    }
   ],
   "source": [
    "#Example \n",
    "\n",
    "#here i am making a dataset related to your given information \n",
    "\n",
    "data = {\"Color\":[\"red\",\"green\",\"blue\",\"black\"],\n",
    "       \"Size\":[\"small\",\"medium\",\"large\",\"extra large\"],\n",
    "       \"Material\":[\"wood\",\"metal\",\"plastic\",\"steel\"]}\n",
    "\n",
    "#then i will convert this data into dataframe using pandas \n",
    "\n",
    "import pandas as pd\n",
    "\n",
    "df = pd.DataFrame(data)\n",
    "\n",
    "#here i will import a libraries from sklearn\n",
    "\n",
    "from sklearn.preprocessing import LabelEncoder\n",
    "\n",
    "label_encoder = LabelEncoder()\n",
    "\n",
    "df[\"encoded_Color\"] = label_encoder.fit_transform(df[\"Color\"])\n",
    "df[\"encoder_size\"] = label_encoder.fit_transform(df[\"Size\"])\n",
    "df[\"encoded_material\"] = label_encoder.fit_transform(df[\"Material\"])\n",
    "\n",
    "print(df)\n",
    "\n"
   ]
  },
  {
   "cell_type": "markdown",
   "id": "80a262c6-cb96-4d9c-b94a-d888c3c645fc",
   "metadata": {},
   "source": [
    "Q5. Calculate the covariance matrix for the following variables in a dataset: Age, Income, and Education\n",
    "level. Interpret the results."
   ]
  },
  {
   "cell_type": "code",
   "execution_count": 6,
   "id": "9fb525e0-cce6-4841-b254-94ce608f4825",
   "metadata": {},
   "outputs": [
    {
     "name": "stdout",
     "output_type": "stream",
     "text": [
      "Covariance Matrix:                              Age        Income  Educational level\n",
      "Age                   406.266667  3.481333e+05           7.133333\n",
      "Income             348133.333333  3.006667e+08        8666.666667\n",
      "Educational level       7.133333  8.666667e+03           4.666667\n"
     ]
    }
   ],
   "source": [
    "#First i will create a sample  dataset on the given information\n",
    "\n",
    "data={\"Age\":[45,78,35,25,27,56],\n",
    "     \"Income\":[50000,80000,45000,35000,34000,60000],\n",
    "     \"Educational level\":[12,15,18,14,13,16]}\n",
    "\n",
    "import pandas as  pd\n",
    "\n",
    "df = pd.DataFrame(data)\n",
    "\n",
    "covariance_matrix = df.cov()\n",
    "\n",
    "print(f\"Covariance Matrix: {covariance_matrix}\")"
   ]
  },
  {
   "cell_type": "markdown",
   "id": "5c44e46e-60ad-4a6c-8617-9e42b6644b11",
   "metadata": {},
   "source": [
    "Q6. You are working on a machine learning project with a dataset containing several categorical\n",
    "variables, including \"Gender\" (Male/Female), \"Education Level\" (High School/Bachelor's/Master's/PhD),\n",
    "and \"Employment Status\" (Unemployed/Part-Time/Full-Time). Which encoding method would you use for\n",
    "each variable, and why?"
   ]
  },
  {
   "cell_type": "markdown",
   "id": "bb513e29-7bab-4350-9bc5-6e787894e5e6",
   "metadata": {},
   "source": [
    "If i am working on a project with a dataset containing several categorical variables , including \"Gender\",\"Education level\",\"Employment status\".So in this kind of situation i will use label encoding on \"Gender\" and \"Employment Status\" variables and will use ordinal encoding on \"Education level\"variable.This is because  in \"Gender\" and \"Employment status\" rank is not that important but in \"Education level\" ranks matters the most."
   ]
  },
  {
   "cell_type": "code",
   "execution_count": 21,
   "id": "46d9cbe4-3655-45ed-b9b3-28e0ff82a5ba",
   "metadata": {},
   "outputs": [
    {
     "data": {
      "text/html": [
       "<div>\n",
       "<style scoped>\n",
       "    .dataframe tbody tr th:only-of-type {\n",
       "        vertical-align: middle;\n",
       "    }\n",
       "\n",
       "    .dataframe tbody tr th {\n",
       "        vertical-align: top;\n",
       "    }\n",
       "\n",
       "    .dataframe thead th {\n",
       "        text-align: right;\n",
       "    }\n",
       "</style>\n",
       "<table border=\"1\" class=\"dataframe\">\n",
       "  <thead>\n",
       "    <tr style=\"text-align: right;\">\n",
       "      <th></th>\n",
       "      <th>Gender</th>\n",
       "      <th>Employment Status</th>\n",
       "      <th>Education Level</th>\n",
       "      <th>encoded_Gender</th>\n",
       "      <th>encoded_Employment_status</th>\n",
       "      <th>encoded_Education Level</th>\n",
       "    </tr>\n",
       "  </thead>\n",
       "  <tbody>\n",
       "    <tr>\n",
       "      <th>0</th>\n",
       "      <td>Male</td>\n",
       "      <td>part-time</td>\n",
       "      <td>High School</td>\n",
       "      <td>1</td>\n",
       "      <td>1</td>\n",
       "      <td>0</td>\n",
       "    </tr>\n",
       "    <tr>\n",
       "      <th>1</th>\n",
       "      <td>Female</td>\n",
       "      <td>full-time</td>\n",
       "      <td>Bachelor's</td>\n",
       "      <td>0</td>\n",
       "      <td>0</td>\n",
       "      <td>1</td>\n",
       "    </tr>\n",
       "    <tr>\n",
       "      <th>2</th>\n",
       "      <td>Male</td>\n",
       "      <td>part-time</td>\n",
       "      <td>Master's</td>\n",
       "      <td>1</td>\n",
       "      <td>1</td>\n",
       "      <td>2</td>\n",
       "    </tr>\n",
       "    <tr>\n",
       "      <th>3</th>\n",
       "      <td>Female</td>\n",
       "      <td>unemployment</td>\n",
       "      <td>phD</td>\n",
       "      <td>0</td>\n",
       "      <td>2</td>\n",
       "      <td>3</td>\n",
       "    </tr>\n",
       "  </tbody>\n",
       "</table>\n",
       "</div>"
      ],
      "text/plain": [
       "   Gender Employment Status Education Level  encoded_Gender  \\\n",
       "0    Male         part-time     High School               1   \n",
       "1  Female         full-time      Bachelor's               0   \n",
       "2    Male         part-time        Master's               1   \n",
       "3  Female      unemployment             phD               0   \n",
       "\n",
       "   encoded_Employment_status  encoded_Education Level  \n",
       "0                          1                        0  \n",
       "1                          0                        1  \n",
       "2                          1                        2  \n",
       "3                          2                        3  "
      ]
     },
     "execution_count": 21,
     "metadata": {},
     "output_type": "execute_result"
    }
   ],
   "source": [
    "#Here i am importing some libraries\n",
    "\n",
    "import pandas as pd\n",
    "from sklearn.preprocessing import LabelEncoder\n",
    "\n",
    "# i am creating a sample data\n",
    "\n",
    "data = {\"Gender\":[\"Male\",\"Female\",\"Male\",\"Female\"],\n",
    "       \"Employment Status\":[\"part-time\",\"full-time\",\"part-time\",\"unemployment\"],\n",
    "       \"Education Level\":[\"High School\",\"Bachelor's\",\"Master's\",\"phD\"]}\n",
    "\n",
    "df =pd.DataFrame(data)\n",
    "df\n",
    "\n",
    "#label encoding\n",
    "\n",
    "\n",
    "label_encoder = LabelEncoder()\n",
    "df[\"encoded_Gender\"] = label_encoder.fit_transform(df[\"Gender\"])\n",
    "df[\"encoded_Employment_status\"] = label_encoder.fit_transform(df[\"Employment Status\"])\n",
    "\n",
    "#Ordinal Encoding\n",
    "\n",
    "df[\"encoded_Education Level\"] = df[\"Education Level\"].map({\"High School\":0,\"Bachelor's\":1,\"Master's\":2,\"phD\":3})\n",
    "\n",
    "#here is the final result\n",
    "df\n",
    "\n",
    "\n",
    "\n",
    "\n"
   ]
  },
  {
   "cell_type": "markdown",
   "id": "ba1aa81b-9f4c-440d-8152-2b153902c13e",
   "metadata": {},
   "source": [
    "Q7. You are analyzing a dataset with two continuous variables, \"Temperature\" and \"Humidity\", and two\n",
    "categorical variables, \"Weather Condition\" (Sunny/Cloudy/Rainy) and \"Wind Direction\" (North/South/\n",
    "East/West). Calculate the covariance between each pair of variables and interpret the results."
   ]
  },
  {
   "cell_type": "code",
   "execution_count": 24,
   "id": "35f42731-b216-4132-a5c5-bbca1dc6499c",
   "metadata": {},
   "outputs": [
    {
     "name": "stdout",
     "output_type": "stream",
     "text": [
      "Covariance_matrix:             Temperature  Humidity\n",
      "Temperature       743.70    510.85\n",
      "Humidity          510.85    452.30\n"
     ]
    },
    {
     "name": "stderr",
     "output_type": "stream",
     "text": [
      "/tmp/ipykernel_77/3502496978.py:16: FutureWarning: The default value of numeric_only in DataFrame.cov is deprecated. In a future version, it will default to False. Select only valid columns or specify the value of numeric_only to silence this warning.\n",
      "  covariance_matrix = df.cov()\n"
     ]
    }
   ],
   "source": [
    "#let's  create a sample  dataset \n",
    "\n",
    "data = {\"Temperature\":[25,46,67,24,87],\n",
    "       \"Humidity\":[34,23,46,12,67],\n",
    "       \"Weather Condition\":[\"Sunny\",\"Cloudy\",\"Rainy\",\"Sunny\",\"Rainy\"],\n",
    "       \"Wind Direction\":[\"North\",\"West\",\"East\",\"South\",\"East\"]}\n",
    "\n",
    "#let's import pandas to convert this data into a dataframe\n",
    "\n",
    "import pandas as pd\n",
    "\n",
    "df = pd.DataFrame(data)\n",
    "\n",
    "#covariance matrix\n",
    "\n",
    "covariance_matrix = df.cov()\n",
    "\n",
    "print(f\"Covariance_matrix:{covariance_matrix}\")"
   ]
  },
  {
   "cell_type": "markdown",
   "id": "83b0988e-1e77-4ddf-87b3-c6120cb59256",
   "metadata": {},
   "source": [
    "# My assignment ends Here"
   ]
  },
  {
   "cell_type": "markdown",
   "metadata": {},
   "source": []
  }
 ],
 "metadata": {
  "kernelspec": {
   "display_name": "Python 3 (ipykernel)",
   "language": "python",
   "name": "python3"
  },
  "language_info": {
   "codemirror_mode": {
    "name": "ipython",
    "version": 3
   },
   "file_extension": ".py",
   "mimetype": "text/x-python",
   "name": "python",
   "nbconvert_exporter": "python",
   "pygments_lexer": "ipython3",
   "version": "3.10.8"
  }
 },
 "nbformat": 4,
 "nbformat_minor": 5
}
